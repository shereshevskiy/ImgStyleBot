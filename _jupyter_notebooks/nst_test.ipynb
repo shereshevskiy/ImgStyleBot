{
 "cells": [
  {
   "cell_type": "code",
   "execution_count": 1,
   "id": "finished-brain",
   "metadata": {},
   "outputs": [],
   "source": [
    "import os\n",
    "os.chdir(\"..\")"
   ]
  },
  {
   "cell_type": "code",
   "execution_count": 2,
   "id": "interpreted-camcorder",
   "metadata": {},
   "outputs": [],
   "source": [
    "import PIL\n",
    "from PIL import Image\n",
    "import matplotlib.pyplot as plt"
   ]
  },
  {
   "cell_type": "code",
   "execution_count": 3,
   "id": "british-toner",
   "metadata": {},
   "outputs": [],
   "source": [
    "from models.nst_model import NSTModel"
   ]
  },
  {
   "cell_type": "code",
   "execution_count": 4,
   "id": "experimental-wallace",
   "metadata": {},
   "outputs": [],
   "source": [
    "data_path = \"data\""
   ]
  },
  {
   "cell_type": "code",
   "execution_count": 5,
   "id": "adult-luther",
   "metadata": {},
   "outputs": [],
   "source": [
    "content_name = \"lisa.jpg\"    \n",
    "style_name = \"picasso.jpg\""
   ]
  },
  {
   "cell_type": "code",
   "execution_count": 6,
   "id": "regulation-difference",
   "metadata": {},
   "outputs": [],
   "source": [
    "def load_img(image_name, data_path=data_path):\n",
    "    return Image.open(os.path.join(data_path, image_name))"
   ]
  },
  {
   "cell_type": "code",
   "execution_count": 7,
   "id": "potential-admission",
   "metadata": {},
   "outputs": [],
   "source": [
    "content_img = load_img(content_name)\n",
    "style_img = load_img(style_name)"
   ]
  },
  {
   "cell_type": "code",
   "execution_count": 8,
   "id": "temporal-slovak",
   "metadata": {},
   "outputs": [],
   "source": [
    "imsize = 128\n",
    "nst_model = NSTModel(imsize, style_img)"
   ]
  },
  {
   "cell_type": "code",
   "execution_count": 9,
   "id": "collect-bruce",
   "metadata": {},
   "outputs": [
    {
     "data": {
      "text/plain": [
       "True"
      ]
     },
     "execution_count": 9,
     "metadata": {},
     "output_type": "execute_result"
    }
   ],
   "source": [
    "isinstance(content_img, PIL.Image.Image)"
   ]
  },
  {
   "cell_type": "code",
   "execution_count": null,
   "id": "measured-anxiety",
   "metadata": {},
   "outputs": [
    {
     "name": "stdout",
     "output_type": "stream",
     "text": [
      "Building the style transfer model..\n",
      "Optimizing..\n"
     ]
    },
    {
     "name": "stderr",
     "output_type": "stream",
     "text": [
      "C:\\Users\\dsher\\PycharmProjects\\ImgStyleBot\\models\\nst_utils.py:12: UserWarning: To copy construct from a tensor, it is recommended to use sourceTensor.clone().detach() or sourceTensor.clone().detach().requires_grad_(True), rather than torch.tensor(sourceTensor).\n",
      "  self.mean = torch.tensor(mean).view(-1, 1, 1)\n",
      "C:\\Users\\dsher\\PycharmProjects\\ImgStyleBot\\models\\nst_utils.py:13: UserWarning: To copy construct from a tensor, it is recommended to use sourceTensor.clone().detach() or sourceTensor.clone().detach().requires_grad_(True), rather than torch.tensor(sourceTensor).\n",
      "  self.std = torch.tensor(std).view(-1, 1, 1)\n"
     ]
    },
    {
     "name": "stdout",
     "output_type": "stream",
     "text": [
      "run [50]:\n",
      "Style Loss : 6.165982 Content Loss: 7.540947\n",
      "\n",
      "run [100]:\n",
      "Style Loss : 2.192822 Content Loss: 5.101456\n",
      "\n",
      "run [150]:\n",
      "Style Loss : 1.582465 Content Loss: 4.455587\n",
      "\n"
     ]
    }
   ],
   "source": [
    "%%time\n",
    "stylized_image = nst_model.get_stylized_image(content_img)"
   ]
  },
  {
   "cell_type": "code",
   "execution_count": null,
   "id": "premium-publicity",
   "metadata": {},
   "outputs": [],
   "source": [
    "plt.imshow(stylized_image);"
   ]
  },
  {
   "cell_type": "code",
   "execution_count": null,
   "id": "racial-candle",
   "metadata": {},
   "outputs": [],
   "source": []
  }
 ],
 "metadata": {
  "kernelspec": {
   "display_name": "Python 3",
   "language": "python",
   "name": "python3"
  },
  "language_info": {
   "codemirror_mode": {
    "name": "ipython",
    "version": 3
   },
   "file_extension": ".py",
   "mimetype": "text/x-python",
   "name": "python",
   "nbconvert_exporter": "python",
   "pygments_lexer": "ipython3",
   "version": "3.8.6"
  }
 },
 "nbformat": 4,
 "nbformat_minor": 5
}
